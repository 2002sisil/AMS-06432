{
 "cells": [
  {
   "cell_type": "code",
   "execution_count": 8,
   "id": "52545e41",
   "metadata": {},
   "outputs": [
    {
     "name": "stdout",
     "output_type": "stream",
     "text": [
      "Jumlah data latih: 48\n",
      "Jumlah data uji: 7\n"
     ]
    }
   ],
   "source": [
    "from sklearn.model_selection import train_test_split\n",
    "import pandas as pd\n",
    "\n",
    "# Baca data dari file CSV\n",
    "df = pd.read_csv('TiktokShop_cleaned.csv', delimiter=',')\n",
    "\n",
    "# Bagi data menjadi data latih dan data uji dengan rasio 350:50\n",
    "X_train, X_test = train_test_split(df['preprocessing'], test_size=0.125, random_state=42)\n",
    "\n",
    "# X_train berisi fitur data latih\n",
    "# X_test berisi fitur data uji \n",
    "\n",
    "# Tampilkan jumlah data latih dan data uji\n",
    "print(\"Jumlah data latih:\", len(X_train))\n",
    "print(\"Jumlah data uji:\", len(X_test))"
   ]
  },
  {
   "cell_type": "code",
   "execution_count": 9,
   "id": "b6ac7a5c",
   "metadata": {},
   "outputs": [
    {
     "name": "stdout",
     "output_type": "stream",
     "text": [
      "Data latih berhasil disimpan ke dalam file CSV.\n",
      "Data uji berhasil disimpan ke dalam file CSV.\n"
     ]
    }
   ],
   "source": [
    "X_train.to_csv('data-latih.csv', index=False)\n",
    "print('Data latih berhasil disimpan ke dalam file CSV.')\n",
    "X_test.to_csv('data-uji.csv', index=False)\n",
    "print('Data uji berhasil disimpan ke dalam file CSV.')"
   ]
  },
  {
   "cell_type": "code",
   "execution_count": null,
   "id": "e7d4a933",
   "metadata": {},
   "outputs": [],
   "source": []
  },
  {
   "cell_type": "markdown",
   "id": "6f265ba2",
   "metadata": {},
   "source": []
  },
  {
   "cell_type": "code",
   "execution_count": null,
   "id": "766b8595",
   "metadata": {},
   "outputs": [],
   "source": []
  },
  {
   "cell_type": "code",
   "execution_count": null,
   "id": "5c505b6a",
   "metadata": {},
   "outputs": [],
   "source": []
  }
 ],
 "metadata": {
  "kernelspec": {
   "display_name": "Python 3 (ipykernel)",
   "language": "python",
   "name": "python3"
  },
  "language_info": {
   "codemirror_mode": {
    "name": "ipython",
    "version": 3
   },
   "file_extension": ".py",
   "mimetype": "text/x-python",
   "name": "python",
   "nbconvert_exporter": "python",
   "pygments_lexer": "ipython3",
   "version": "3.9.12"
  }
 },
 "nbformat": 4,
 "nbformat_minor": 5
}
