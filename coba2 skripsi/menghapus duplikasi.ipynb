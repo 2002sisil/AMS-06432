{
 "cells": [
  {
   "cell_type": "code",
   "execution_count": 11,
   "id": "62435f85",
   "metadata": {},
   "outputs": [
    {
     "name": "stdout",
     "output_type": "stream",
     "text": [
      "Jumlah data : 55\n"
     ]
    }
   ],
   "source": [
    "import pandas as pd\n",
    "\n",
    "# Baca data dari file csv\n",
    "df = pd.read_csv('pra-pemrosesan.csv', delimiter=',')\n",
    "\n",
    "print(f\"Jumlah data : {len(df)}\")"
   ]
  },
  {
   "cell_type": "code",
   "execution_count": 12,
   "id": "93f1b87c",
   "metadata": {},
   "outputs": [
    {
     "name": "stdout",
     "output_type": "stream",
     "text": [
      "Jumlah data : 55\n"
     ]
    }
   ],
   "source": [
    "# hapus data yang duplikasi berdasarkan kolom\n",
    "df = df.drop_duplicates(subset='preprocessing', keep='first')\n",
    "\n",
    "print(f\"Jumlah data : {len(df)}\")"
   ]
  },
  {
   "cell_type": "code",
   "execution_count": 13,
   "id": "6238eb61",
   "metadata": {},
   "outputs": [],
   "source": [
    "# Simpan kembali data ke file CSV tanpa data yang duplikasi \n",
    "df.to_csv('TiktokShop_cleaned.csv', index=False)"
   ]
  },
  {
   "cell_type": "code",
   "execution_count": null,
   "id": "7a1614b7",
   "metadata": {},
   "outputs": [],
   "source": []
  }
 ],
 "metadata": {
  "kernelspec": {
   "display_name": "Python 3 (ipykernel)",
   "language": "python",
   "name": "python3"
  },
  "language_info": {
   "codemirror_mode": {
    "name": "ipython",
    "version": 3
   },
   "file_extension": ".py",
   "mimetype": "text/x-python",
   "name": "python",
   "nbconvert_exporter": "python",
   "pygments_lexer": "ipython3",
   "version": "3.9.12"
  }
 },
 "nbformat": 4,
 "nbformat_minor": 5
}
